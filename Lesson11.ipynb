{
 "cells": [
  {
   "cell_type": "markdown",
   "id": "c0aae05d",
   "metadata": {},
   "source": [
    "Дана функция: f(x)=x^2 - 6|x| + 8 Требуется:\n",
    "\n",
    "    Определить корни\n",
    "    Найти интервалы, на которых функция возрастает\n",
    "    Найти интервалы, на которых функция убывает\n",
    "    Построить график\n",
    "    Вычислить вершину\n",
    "    Определить промежутки, на котором f > 0\n",
    "    Определить промежутки, на котором f < 0\n",
    "\n"
   ]
  },
  {
   "cell_type": "code",
   "execution_count": 1,
   "id": "7f055854",
   "metadata": {},
   "outputs": [],
   "source": [
    "import sympy as sym\n",
    "from sympy import symbols, latex, diff, S\n",
    "from sympy.solvers import solve\n",
    "from sympy.plotting import plot\n",
    "\n",
    "sym.init_printing(use_latex='mathjax')"
   ]
  },
  {
   "cell_type": "code",
   "execution_count": 2,
   "id": "494d1102",
   "metadata": {},
   "outputs": [
    {
     "data": {
      "text/latex": [
       "$\\displaystyle x^{2} - 6 \\left|{x}\\right| + 8$"
      ],
      "text/plain": [
       " 2            \n",
       "x  - 6⋅│x│ + 8"
      ]
     },
     "execution_count": 2,
     "metadata": {},
     "output_type": "execute_result"
    }
   ],
   "source": [
    "x = symbols('x',real=True) # ,real=True\n",
    "f = x**2 - 6*abs(x) + 8\n",
    "f"
   ]
  },
  {
   "cell_type": "markdown",
   "id": "1577f1b0",
   "metadata": {},
   "source": [
    "## 1. Находим корни функции (ищем значения x, при которых f(x)=0)"
   ]
  },
  {
   "cell_type": "code",
   "execution_count": 3,
   "id": "55019d70",
   "metadata": {},
   "outputs": [
    {
     "data": {
      "text/latex": [
       "$\\displaystyle \\left[ -4, \\  -2, \\  2, \\  4\\right]$"
      ],
      "text/plain": [
       "[-4, -2, 2, 4]"
      ]
     },
     "execution_count": 3,
     "metadata": {},
     "output_type": "execute_result"
    }
   ],
   "source": [
    "solve(f,x)"
   ]
  },
  {
   "cell_type": "markdown",
   "id": "c098388c",
   "metadata": {},
   "source": [
    "Действительные корни есть, функция пересекает ось OX в 4-х местах"
   ]
  },
  {
   "cell_type": "markdown",
   "id": "8fdeec43",
   "metadata": {},
   "source": [
    "## 2, 3. Интервалы, на которых функция возрастает и убывает:"
   ]
  },
  {
   "cell_type": "code",
   "execution_count": 4,
   "id": "e39f6b5f",
   "metadata": {},
   "outputs": [
    {
     "data": {
      "text/latex": [
       "$\\displaystyle 2 x - 6 \\operatorname{sign}{\\left(x \\right)}$"
      ],
      "text/plain": [
       "2⋅x - 6⋅sign(x)"
      ]
     },
     "execution_count": 4,
     "metadata": {},
     "output_type": "execute_result"
    }
   ],
   "source": [
    "f1 = diff(f)\n",
    "f1 # производная"
   ]
  },
  {
   "cell_type": "code",
   "execution_count": 5,
   "id": "14e6d48d",
   "metadata": {},
   "outputs": [
    {
     "data": {
      "text/latex": [
       "$\\displaystyle 3.0$"
      ],
      "text/plain": [
       "3.00000000000000"
      ]
     },
     "execution_count": 5,
     "metadata": {},
     "output_type": "execute_result"
    }
   ],
   "source": [
    "extremum_x = solve(f1,x) # значение X в точке экстремума\n",
    "extremum_x[0].n()"
   ]
  },
  {
   "cell_type": "markdown",
   "id": "8fea8063",
   "metadata": {},
   "source": [
    "Функция симметричная (в ней есть модуль) - то точка экстремума так же будет симметрична. Так же точкой экстремума будет точка 0"
   ]
  },
  {
   "cell_type": "code",
   "execution_count": 6,
   "id": "1bbf0d49",
   "metadata": {},
   "outputs": [
    {
     "name": "stdout",
     "output_type": "stream",
     "text": [
      "-1.00000000000000\n",
      "8.00000000000000\n",
      "-1.00000000000000\n"
     ]
    }
   ],
   "source": [
    "print(f.subs(x,-extremum_x[0]).n()) #\n",
    "print(f.subs(x,0).n())\n",
    "print(f.subs(x,extremum_x[0]).n())"
   ]
  },
  {
   "cell_type": "code",
   "execution_count": 7,
   "id": "d6a3c78a",
   "metadata": {},
   "outputs": [
    {
     "name": "stdout",
     "output_type": "stream",
     "text": [
      "2\n",
      "5.60000000000000\n",
      "-5.60000000000000\n",
      "-2\n"
     ]
    }
   ],
   "source": [
    "print(f1.subs(x,-2))\n",
    "print(f1.subs(x,-0.2))\n",
    "print(f1.subs(x,0.2))\n",
    "print(f1.subs(x,2))"
   ]
  },
  {
   "cell_type": "markdown",
   "id": "31a5d202",
   "metadata": {},
   "source": [
    "\n",
    "\n",
    "   * На промежутке от -oo до -extremum_x[0] (-oo;-3) - производная отрицательная - функция f(x) - убывает\n",
    "   * На промежутке от -extremum_x[0] до 0 (-3;0) - производная положительная - функция f(x) - возрастает\n",
    "   * На промежутке от 0 до extremum_x[0] (0;3) - производная отрицательная - функция f(x) - убывает\n",
    "   * На промежутке от extremum_x[0] до +oo (3;+oo) - производная положительная - функция f(x) - возрастает\n",
    "\n"
   ]
  },
  {
   "cell_type": "markdown",
   "id": "de98603c",
   "metadata": {},
   "source": [
    "## 4. Построить график"
   ]
  },
  {
   "cell_type": "code",
   "execution_count": 8,
   "id": "7482029b",
   "metadata": {},
   "outputs": [
    {
     "data": {
      "image/png": "[encoded data removed]",
      "text/plain": [
       "<Figure size 432x288 with 1 Axes>"
      ]
     },
     "metadata": {
      "needs_background": "light"
     },
     "output_type": "display_data"
    }
   ],
   "source": [
    "str= latex(S(f,evaluate = False))\n",
    "p = plot(f,(x,-8,8),title='$'+'f(x)='+str+'$', show=  False)\n",
    "p.show()"
   ]
  },
  {
   "cell_type": "markdown",
   "id": "52e3c53f",
   "metadata": {},
   "source": [
    "## 5. Вычислить вершину"
   ]
  },
  {
   "cell_type": "code",
   "execution_count": 9,
   "id": "0d3238a7",
   "metadata": {},
   "outputs": [
    {
     "data": {
      "image/png": "[encoded data removed]",
      "text/plain": [
       "<Figure size 432x288 with 1 Axes>"
      ]
     },
     "metadata": {
      "needs_background": "light"
     },
     "output_type": "display_data"
    }
   ],
   "source": [
    "str= latex(S(f1,evaluate = False))\n",
    "p = plot(f1,(x,-5,5), title = '$'+'f1(x)='+str+'$', show = False) # график производной\n",
    "p.show()"
   ]
  },
  {
   "cell_type": "markdown",
   "id": "d927a010",
   "metadata": {},
   "source": [
    "В точке x=0 производная функции имеет точку разрыва. Примем точку x = 0 вершиной функции. И вычислим ее значение"
   ]
  },
  {
   "cell_type": "code",
   "execution_count": 10,
   "id": "d91db544",
   "metadata": {},
   "outputs": [
    {
     "data": {
      "text/latex": [
       "$\\displaystyle 8$"
      ],
      "text/plain": [
       "8"
      ]
     },
     "execution_count": 10,
     "metadata": {},
     "output_type": "execute_result"
    }
   ],
   "source": [
    "f.subs(x,0)"
   ]
  },
  {
   "cell_type": "markdown",
   "id": "458c8cf6",
   "metadata": {},
   "source": [
    "Точка (0; 8) - вершина функции"
   ]
  },
  {
   "cell_type": "markdown",
   "id": "199fc149",
   "metadata": {},
   "source": [
    "## 6, 7. Определить промежутки, на котором f > 0 и f < 0"
   ]
  },
  {
   "cell_type": "markdown",
   "id": "824efc62",
   "metadata": {},
   "source": [
    "Функция f(x) - имеет 4 действительных корня. Соответсвено найдем значения функции в каждом промежутке"
   ]
  },
  {
   "cell_type": "code",
   "execution_count": 11,
   "id": "ce452aee",
   "metadata": {},
   "outputs": [
    {
     "name": "stdout",
     "output_type": "stream",
     "text": [
      "8\n",
      "-1\n",
      "8\n",
      "-1\n",
      "8\n"
     ]
    }
   ],
   "source": [
    "print(f.subs(x,-6))\n",
    "print(f.subs(x,-3))\n",
    "print(f.subs(x,0))\n",
    "print(f.subs(x,3))\n",
    "print(f.subs(x,6))"
   ]
  },
  {
   "cell_type": "markdown",
   "id": "0d26db29",
   "metadata": {},
   "source": [
    "    * На промежутке (-oo;-4) - f(x) положительна\n",
    "    * На промежутке (-4;-2) - f(x) отрицательна\n",
    "    * На промежутке (-2;2) - f(x) положительна\n",
    "    * На промежутке (2;4) - f(x) отрицательна\n",
    "    * На промежутке (4;+oo) - f(x) положительна\n",
    "\n"
   ]
  },
  {
   "cell_type": "code",
   "execution_count": null,
   "id": "a27ece26",
   "metadata": {},
   "outputs": [],
   "source": []
  }
 ],
 "metadata": {
  "kernelspec": {
   "display_name": "Python 3 (ipykernel)",
   "language": "python",
   "name": "python3"
  },
  "language_info": {
   "codemirror_mode": {
    "name": "ipython",
    "version": 3
   },
   "file_extension": ".py",
   "mimetype": "text/x-python",
   "name": "python",
   "nbconvert_exporter": "python",
   "pygments_lexer": "ipython3",
   "version": "3.9.12"
  }
 },
 "nbformat": 4,
 "nbformat_minor": 5
}
